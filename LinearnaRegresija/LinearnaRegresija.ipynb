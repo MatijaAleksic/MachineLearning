{
 "cells": [
  {
   "cell_type": "code",
   "execution_count": 1,
   "id": "pressing-lexington",
   "metadata": {},
   "outputs": [],
   "source": [
    "import sys\n",
    "import csv\n",
    "\n",
    "#import matplotlib.pyplot as plt\n",
    "import numpy as np\n",
    "import pandas as pd\n",
    "\n",
    "import matplotlib.pyplot as plt\n",
    "#%matplotlib inline\n",
    "plt.rcParams['figure.figsize'] = [10, 5]"
   ]
  },
  {
   "cell_type": "code",
   "execution_count": 2,
   "id": "39d34029",
   "metadata": {},
   "outputs": [
    {
     "data": {
      "text/plain": [
       "<matplotlib.collections.PathCollection at 0x2db94ac2940>"
      ]
     },
     "execution_count": 2,
     "metadata": {},
     "output_type": "execute_result"
    },
    {
     "data": {
      "image/png": "[encoded data removed]",
      "text/plain": [
       "<Figure size 432x288 with 1 Axes>"
      ]
     },
     "metadata": {
      "needs_background": "light"
     },
     "output_type": "display_data"
    }
   ],
   "source": [
    "#Iscrtavanje linearne regresije\n",
    "df = pd.read_csv(\"train.csv\")\n",
    "\n",
    "plt.xlabel('Weight')\n",
    "plt.ylabel('Speed')\n",
    "plt.scatter(df.X,df.Y, color='red', marker='+')"
   ]
  },
  {
   "cell_type": "code",
   "execution_count": 3,
   "id": "a3077add",
   "metadata": {},
   "outputs": [
    {
     "data": {
      "text/plain": [
       "<matplotlib.collections.PathCollection at 0x2db94b544e0>"
      ]
     },
     "execution_count": 3,
     "metadata": {},
     "output_type": "execute_result"
    },
    {
     "data": {
      "image/png": "[encoded data removed]",
      "text/plain": [
       "<Figure size 432x288 with 1 Axes>"
      ]
     },
     "metadata": {
      "needs_background": "light"
     },
     "output_type": "display_data"
    }
   ],
   "source": [
    "#Normalizacija podataka\n",
    "def normalize(df):\n",
    "    result = df.copy()\n",
    "    for feature_name in df.columns:\n",
    "        max_value = df[feature_name].max()\n",
    "        min_value = df[feature_name].min()\n",
    "        result[feature_name] = (df[feature_name] - min_value) / (max_value - min_value)\n",
    "    return result\n",
    "\n",
    "df = normalize(df)\n",
    "%matplotlib inline\n",
    "plt.xlabel('Weight')\n",
    "plt.ylabel('Speed')\n",
    "plt.scatter(df.X, df.Y, color='red', marker='+')"
   ]
  },
  {
   "cell_type": "code",
   "execution_count": 4,
   "id": "59a24bb7",
   "metadata": {},
   "outputs": [
    {
     "data": {
      "image/png": "[encoded data removed]",
      "text/plain": [
       "<Figure size 432x288 with 1 Axes>"
      ]
     },
     "metadata": {
      "needs_background": "light"
     },
     "output_type": "display_data"
    },
    {
     "data": {
      "text/html": [
       "<div>\n",
       "<style scoped>\n",
       "    .dataframe tbody tr th:only-of-type {\n",
       "        vertical-align: middle;\n",
       "    }\n",
       "\n",
       "    .dataframe tbody tr th {\n",
       "        vertical-align: top;\n",
       "    }\n",
       "\n",
       "    .dataframe thead th {\n",
       "        text-align: right;\n",
       "    }\n",
       "</style>\n",
       "<table border=\"1\" class=\"dataframe\">\n",
       "  <thead>\n",
       "    <tr style=\"text-align: right;\">\n",
       "      <th></th>\n",
       "      <th>X</th>\n",
       "      <th>Y</th>\n",
       "    </tr>\n",
       "  </thead>\n",
       "  <tbody>\n",
       "    <tr>\n",
       "      <th>count</th>\n",
       "      <td>217.000000</td>\n",
       "      <td>217.000000</td>\n",
       "    </tr>\n",
       "    <tr>\n",
       "      <th>mean</th>\n",
       "      <td>0.492733</td>\n",
       "      <td>0.164912</td>\n",
       "    </tr>\n",
       "    <tr>\n",
       "      <th>std</th>\n",
       "      <td>0.313090</td>\n",
       "      <td>0.239037</td>\n",
       "    </tr>\n",
       "    <tr>\n",
       "      <th>min</th>\n",
       "      <td>0.000000</td>\n",
       "      <td>0.000000</td>\n",
       "    </tr>\n",
       "    <tr>\n",
       "      <th>25%</th>\n",
       "      <td>0.230769</td>\n",
       "      <td>0.011540</td>\n",
       "    </tr>\n",
       "    <tr>\n",
       "      <th>50%</th>\n",
       "      <td>0.538462</td>\n",
       "      <td>0.050469</td>\n",
       "    </tr>\n",
       "    <tr>\n",
       "      <th>75%</th>\n",
       "      <td>0.769231</td>\n",
       "      <td>0.197723</td>\n",
       "    </tr>\n",
       "    <tr>\n",
       "      <th>max</th>\n",
       "      <td>1.000000</td>\n",
       "      <td>1.000000</td>\n",
       "    </tr>\n",
       "  </tbody>\n",
       "</table>\n",
       "</div>"
      ],
      "text/plain": [
       "                X           Y\n",
       "count  217.000000  217.000000\n",
       "mean     0.492733    0.164912\n",
       "std      0.313090    0.239037\n",
       "min      0.000000    0.000000\n",
       "25%      0.230769    0.011540\n",
       "50%      0.538462    0.050469\n",
       "75%      0.769231    0.197723\n",
       "max      1.000000    1.000000"
      ]
     },
     "execution_count": 4,
     "metadata": {},
     "output_type": "execute_result"
    }
   ],
   "source": [
    "# #Boxplot da se vide outlieri\n",
    "df.plot(kind='box')\n",
    "plt.show()\n",
    "\n",
    "df.describe()"
   ]
  },
  {
   "cell_type": "code",
   "execution_count": 5,
   "id": "8ec0dfb4",
   "metadata": {},
   "outputs": [
    {
     "name": "stdout",
     "output_type": "stream",
     "text": [
      "Element number after IQR outlyer removed: 108\n"
     ]
    },
    {
     "data": {
      "text/plain": [
       "<matplotlib.collections.PathCollection at 0x2db94bfcef0>"
      ]
     },
     "execution_count": 5,
     "metadata": {},
     "output_type": "execute_result"
    },
    {
     "data": {
      "image/png": "[encoded data removed]",
      "text/plain": [
       "<Figure size 432x288 with 1 Axes>"
      ]
     },
     "metadata": {
      "needs_background": "light"
     },
     "output_type": "display_data"
    }
   ],
   "source": [
    "#PRONAZENJE PARAMETARA ZA OUTLIERE\n",
    "def up_down(df):\n",
    "    Q1 = df.describe().loc['25%']\n",
    "    Q3 = df.describe().loc['75%']\n",
    "\n",
    "    IQR_Weight = Q3[0] - Q1[0]\n",
    "    IQR_Speed = Q3[1] - Q1[1]\n",
    "\n",
    "    #Racunanje whiskera gore i dole\n",
    "    UP_Weigth = Q3[0] + (1.5 *  IQR_Weight)\n",
    "    DOWN_Weigth = Q1[0] - (1.5 *  IQR_Weight)\n",
    "\n",
    "    UP_Speed = Q3[1] + (1.5 *  IQR_Speed)\n",
    "    DOWN_Speed = Q1[1] - (1.5 *  IQR_Speed)\n",
    "\n",
    "    return [UP_Weigth,DOWN_Weigth,UP_Speed,DOWN_Speed]\n",
    "\n",
    "def up_down_z(df, sd):    \n",
    "    STD = df.describe().loc['std']\n",
    "    STDw = STD[0]\n",
    "    STDsp = STD[1]\n",
    "\n",
    "    MEAN = df.describe().loc['mean']\n",
    "    MEANw = MEAN[0]\n",
    "    MEANsp = MEAN[1]\n",
    "\n",
    "    up_w = MEANw + sd * STDw;\n",
    "    down_w = MEANw - sd * STDw;\n",
    "\n",
    "    up_sp = MEANsp + sd * STDsp;\n",
    "    down_sp = MEANsp - sd * STDsp;\n",
    "\n",
    "    return [up_w,down_w,up_sp,down_sp]\n",
    "\n",
    "\n",
    "def takeout_outliers(df, up_w, down_w, up_sp, down_sp):\n",
    "    indexes = []\n",
    "    counter = 0\n",
    "    for i in df.Y:\n",
    "        if i > up_w or i < down_w:\n",
    "            indexes.append(counter)\n",
    "        counter += 1\n",
    "\n",
    "    counter = 0\n",
    "    for i in df.X:\n",
    "        if i > up_sp or i < down_sp:\n",
    "            indexes.append(counter)\n",
    "        counter += 1\n",
    "    \n",
    "    data = df.drop(indexes)\n",
    "    return data\n",
    "\n",
    "\n",
    "# IZBACIVANJE OUTLIERA\n",
    "[up_w,down_w,up_sp,down_sp] = up_down_z(df, 1)\n",
    "[up_w,down_w,up_sp,down_sp] = up_down(df)\n",
    "\n",
    "df = takeout_outliers(df,up_w,down_w,up_sp,down_sp)\n",
    "\n",
    "print(\"Element number after IQR outlyer removed: \" + str(df.X.size))\n",
    "\n",
    "%matplotlib inline\n",
    "plt.xlabel('Width')\n",
    "plt.ylabel('Speed')\n",
    "plt.scatter(df.X,df.Y, color='red', marker='+')"
   ]
  },
  {
   "cell_type": "code",
   "execution_count": 6,
   "id": "0846d8a3",
   "metadata": {},
   "outputs": [],
   "source": [
    "#Racunanje RMSE\n",
    "def RMSE(n,predicted, acctual):\n",
    "    suma = 0\n",
    "    for i in range(0, n):\n",
    "        suma += (predicted[i] - acctual.iloc[i])**2\n",
    "    return np.sqrt(suma/n)"
   ]
  },
  {
   "cell_type": "code",
   "execution_count": 7,
   "id": "e6cd4c2a",
   "metadata": {},
   "outputs": [],
   "source": [
    "#SORTED 80/20    \n",
    "def train_test_split(dataset, data_size):\n",
    "    train_counter = 1\n",
    "    indices = []\n",
    "    train = pd.DataFrame()\n",
    "    dataframe_copy = dataset\n",
    "    \n",
    "    for i in range(data_size):\n",
    "        if train_counter == 5:\n",
    "            indices.append(i)\n",
    "            train_counter = 1\n",
    "        else:\n",
    "            train_counter = train_counter + 1\n",
    "    \n",
    "    for i in range(len(indices)):\n",
    "        train = train.append(dataframe_copy.iloc[[i]])\n",
    "        \n",
    "    \n",
    "    return dataframe_copy.drop(labels = indices, axis=0), train   \n",
    "\n",
    "\n",
    "from random import seed\n",
    "from random import randrange\n",
    "\n",
    "# Split a dataset into a train and test set\n",
    "def train_test_split_random(dataset, data_size,split=0.7):\n",
    "    \n",
    "    train_size_counter = 0\n",
    "    indices = []\n",
    "    train = pd.DataFrame()\n",
    "    train_size = split * data_size\n",
    "    dataframe_copy = dataset\n",
    "    while train_size_counter < train_size:\n",
    "        train_size_counter = train_size_counter + 1\n",
    "        index = randrange(data_size)\n",
    "        indices.append(index)\n",
    "    \n",
    "    for i in range(len(indices)):\n",
    "        train = train.append(dataframe_copy.iloc[[i]])\n",
    "        \n",
    "    return train, dataframe_copy.drop(labels = indices, axis=0)"
   ]
  },
  {
   "cell_type": "code",
   "execution_count": 8,
   "id": "4a6fb9ae",
   "metadata": {},
   "outputs": [],
   "source": [
    "def get_constants(df, n):\n",
    "    x = df.X\n",
    "    y = df.Y\n",
    "\n",
    "    A = np.zeros((n, n))\n",
    "    b = np.zeros((n, 1))\n",
    "\n",
    "    for i in range(n):\n",
    "        #print('row',i)\n",
    "        for j in range(n):\n",
    "            #print('column', j)\n",
    "            #print(f'element sum(x**{i+j})')\n",
    "            A[i,j]=sum(x**(i+j))\n",
    "        #print(\"b element\" + f\"sum(x**{i}*y)\")\n",
    "        b[i] = sum(x**(i)*y)\n",
    "\n",
    "    return np.dot(np.linalg.inv(A), b)"
   ]
  },
  {
   "cell_type": "code",
   "execution_count": 57,
   "id": "ceeb16ae",
   "metadata": {},
   "outputs": [
    {
     "data": {
      "text/plain": [
       "4.439477780612391"
      ]
     },
     "execution_count": 57,
     "metadata": {},
     "output_type": "execute_result"
    },
    {
     "data": {
      "image/png": "[encoded data removed]",
      "text/plain": [
       "<Figure size 432x288 with 1 Axes>"
      ]
     },
     "metadata": {
      "needs_background": "light"
     },
     "output_type": "display_data"
    }
   ],
   "source": [
    "df_main = pd.read_csv(\"train.csv\")\n",
    "\n",
    "inda = [26, 149, 150]\n",
    "df_main = df_main.drop(labels = inda, axis=0)\n",
    "df_main = df_main.reset_index(drop=True)\n",
    "\n",
    "[df_train, df_test] = train_test_split_random(df_main, df_main.Y.size, split=0.8)\n",
    "#[df_train, df_test] = train_test_split(df_main, df_main.Y.size)\n",
    "\n",
    "\n",
    "x = df_train.X\n",
    "y = df_train.Y\n",
    "\n",
    "z = get_constants(df_train,3)\n",
    "\n",
    "a = float(z[2])\n",
    "b = float(z[1])\n",
    "c = float(z[0])\n",
    "\n",
    "# y = []\n",
    "# for x in df_test.X:\n",
    "#     y.append(c + b * x + a * x * x)\n",
    "    \n",
    "y = []\n",
    "for x in df_test.X:\n",
    "    y.append(c + b*x + a*x*x)\n",
    "        \n",
    "n = df_test.Y.size\n",
    "\n",
    "data = []\n",
    "counter = 0\n",
    "for element in df_test.X:\n",
    "    data.append([element, y[counter] ])\n",
    "    counter = counter + 1\n",
    "    \n",
    "df_unsorted = pd.DataFrame(data, columns = ['X', 'Y'])\n",
    "df_sorted = df_unsorted.sort_values(by=['X'])\n",
    "    \n",
    "plt.scatter(df_main.X, df_main.Y, color='red', marker='+')\n",
    "plt.plot(df_sorted.X, df_sorted.Y, color='green',linewidth=2, markersize=12)\n",
    "RMSE(n, y, df_test.Y)"
   ]
  },
  {
   "cell_type": "code",
   "execution_count": null,
   "id": "03494a27",
   "metadata": {},
   "outputs": [],
   "source": [
    "\n"
   ]
  },
  {
   "cell_type": "code",
   "execution_count": null,
   "id": "5e110272",
   "metadata": {},
   "outputs": [],
   "source": [
    "# import sys\n",
    "\n",
    "# if(len(sys.argv) != 3):\n",
    "#     print(\"Mora imati dva argumenta 'train.csv' 'test.csv'\")\n",
    "#     exit()\n",
    "# else:\n",
    "#     train_csv = sys.argv[1]\n",
    "#     test_csv = sys.argv[2]   \n",
    "    \n",
    "#     df_train = pd.read_csv(train_csv)\n",
    "#     df_test = pd.read_csv(test_csv)\n",
    "\n",
    "#     #[up_w,down_w,up_wi,down_wi] = up_down_z(df, 0.9)\n",
    "#     #[up_w,down_w,up_wi,down_wi] = up_down(df)\n",
    "\n",
    "#     #df = takeout_outliers(df,up_w,down_w,up_wi,down_wi)\n",
    "\n",
    "#     x = df_train.X\n",
    "#     y = df_train.Y\n",
    "    \n",
    "#     z = get_constants(df_train,6)\n",
    "\n",
    "#     f = float(z[5])\n",
    "#     e = float(z[4])\n",
    "#     d = float(z[3])\n",
    "#     a = float(z[2])\n",
    "#     b = float(z[1])\n",
    "#     c = float(z[0])\n",
    "\n",
    "#     y = []\n",
    "#     for x in df_test.X:\n",
    "#         y.append(c + b*x + a*x*x + d*x*x*x + e*x*x*x*x + f*x*x*x*x*x )\n",
    " \n",
    "#     n = df_test.X.size\n",
    "#     print(RMSE(n, y, df_test.Y))\n",
    "    \n",
    "# #     plt.scatter(df.Width, df.Weight, color='red', marker='+')\n",
    "# #     plt.plot(df.Width,y, color='green',linewidth=2, markersize=12)"
   ]
  }
 ],
 "metadata": {
  "kernelspec": {
   "display_name": "Zadatak1",
   "language": "python",
   "name": "zadatak1"
  },
  "language_info": {
   "codemirror_mode": {
    "name": "ipython",
    "version": 3
   },
   "file_extension": ".py",
   "mimetype": "text/x-python",
   "name": "python",
   "nbconvert_exporter": "python",
   "pygments_lexer": "ipython3",
   "version": "3.5.5"
  }
 },
 "nbformat": 4,
 "nbformat_minor": 5
}
